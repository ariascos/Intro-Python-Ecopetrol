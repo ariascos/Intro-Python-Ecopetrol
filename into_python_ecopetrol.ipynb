{
 "cells": [
  {
   "cell_type": "markdown",
   "metadata": {},
   "source": [
    "<img src=\"https://sibcolombia.net/wp-content/uploads/2021/08/ecp-1.jpg\" alt=\"Universidad de Los Andes\" style=\"width: 200px;\" align=\"center\" frameborder=\"300\"/>\n",
    "\n",
    "\n",
    "\n",
    "# Introducción a Python\n",
    "\n",
    "¿Por qué Python? \n",
    "- Es gratis\n",
    "- Es un lenguaje de propósito general, es decir que se utiliza para muchas cosas como Machine Learning, Internet of things, creación de aplicaciones web, de escritorio y de móviles.\n",
    "- Comunidad grande y colaborativa.\n",
    "\n",
    "\n",
    "<!-- <center> \n",
    "<img src = \"assets\\why_python.PNG\" width = \"500\"/>\n",
    "</center> -->\n",
    "\n",
    "Podemos usar a Python para casi cualquier cosa de desarrollo computacional, pero empecemos con lo primero. Es una calculadora :)"
   ]
  },
  {
   "cell_type": "markdown",
   "metadata": {},
   "source": [
    "## Operaciones básicas\n",
    "Realice alguna operación con los siguientes comandos\n",
    "| Operación | Resultado       |\n",
    "| --------- | --------------- |\n",
    "|    +      | Suma            |\n",
    "|    -      | Resta           |\n",
    "|    *      | Multiplicación  |\n",
    "|    /      | División        |\n",
    "|    %      | Modulo          |\n",
    "|    //     | División entera |\n",
    "|    \\*\\*   | Potencia        |"
   ]
  },
  {
   "cell_type": "code",
   "execution_count": 1,
   "metadata": {},
   "outputs": [
    {
     "name": "stdout",
     "output_type": "stream",
     "text": [
      "### Suma ###\n",
      "10\n",
      "### Resta ###\n",
      "0\n",
      "### Multiplicación ###\n",
      "15\n",
      "### División ###\n",
      "3.3333333333333335\n",
      "### Divisón entera ###\n",
      "3\n",
      "### Modulo ###\n",
      "4\n",
      "### Potencia ###\n",
      "16\n"
     ]
    }
   ],
   "source": [
    "print(\"### Suma ###\")\n",
    "print(5 + 5)\n",
    "print(\"### Resta ###\")\n",
    "print(5 - 5)\n",
    "print(\"### Multiplicación ###\")\n",
    "print(3 * 5)\n",
    "print(\"### División ###\")\n",
    "print(10 / 3)\n",
    "print(\"### Divisón entera ###\")\n",
    "print(10 // 3)\n",
    "print(\"### Modulo ###\")\n",
    "print(18 % 7)\n",
    "print(\"### Potencia ###\")\n",
    "print(4 ** 2)"
   ]
  },
  {
   "cell_type": "markdown",
   "metadata": {},
   "source": [
    "## Variables\n",
    "Para definir variables en Python utilizamos el simbolo de igual (`=`). Como buena práctica de programación, cuando definimos un nombre, utilizamos guión bajo (`_`) para separar las palabras. **Nunca usamos un punto** (Para los que vienen de R). Adicionalmente se debe usar caracteres especiales como tildes o ñ en los nombres de los objetos que definamos.\n",
    "\n",
    "A continuación debe crear 4 variables. \n",
    "- La primera variable se debe llamar `refran` y debe ser un texto alusivo a un refran. Hint: Todos los textos deben estar entre comillas para que Python sepa que son textos.\n",
    "- La segunda variable se debe llamar `x` y debe ser un número entero.\n",
    "- La tercera variable se debe llamar `pi` y debe ser el número pi aproximado\n",
    "- La cuarta variable se debe llamar `condicion` y debe tomar el valor de `True` o `False`"
   ]
  },
  {
   "cell_type": "code",
   "execution_count": 2,
   "metadata": {},
   "outputs": [],
   "source": [
    "refran = \"Perro que ladra no muerde\"\n",
    "x = 3\n",
    "pi = 3.1416\n",
    "condicion = True"
   ]
  },
  {
   "cell_type": "markdown",
   "metadata": {},
   "source": [
    "Note que cada variable tiene un color diferente. El color está asociado al **tipo** de variable. En mi caso, se ve verde si la variable es un texto (*string*), amarillo si es un número (*integer* o *float*) y rojo si es una variable booleana (*bool*). Para chequear el tipo de una variable siplemente escribimos:\n",
    "> type(nombre_de_la_variable)"
   ]
  },
  {
   "cell_type": "code",
   "execution_count": 3,
   "metadata": {},
   "outputs": [
    {
     "name": "stdout",
     "output_type": "stream",
     "text": [
      "<class 'str'>\n",
      "<class 'int'>\n",
      "<class 'float'>\n",
      "<class 'bool'>\n"
     ]
    }
   ],
   "source": [
    "print(type(refran))\n",
    "print(type(x))\n",
    "print(type(pi))\n",
    "print(type(condicion))"
   ]
  },
  {
   "cell_type": "markdown",
   "metadata": {},
   "source": [
    "Saber la clase de los objetos con los que trabajamos es muy importante porque dependiendo de esta las operaciones y funciones a implementar van a cambiar su resultado. Por ejemplo, pruebe las siguientes operaciones:\n",
    "```python\n",
    "x + pi\n",
    "pi - 2*condicion\n",
    "not condicion\n",
    "condicion + 0\n",
    "refran + refran\n",
    "refran * 5\n",
    "```"
   ]
  },
  {
   "cell_type": "code",
   "execution_count": 4,
   "metadata": {},
   "outputs": [
    {
     "name": "stdout",
     "output_type": "stream",
     "text": [
      "6.1416\n",
      "1.1416\n",
      "False\n",
      "1\n",
      "Perro que ladra no muerdePerro que ladra no muerde\n",
      "Perro que ladra no muerde Perro que ladra no muerde Perro que ladra no muerde Perro que ladra no muerde Perro que ladra no muerde \n"
     ]
    }
   ],
   "source": [
    "print(x + pi)\n",
    "print(pi - 2*condicion) \n",
    "print(not condicion) \n",
    "print(condicion + 0) # True equivale a 1 y False equivale a 0\n",
    "print(refran + refran) # Se pueden concatenar strings usando +\n",
    "print((refran + \" \")* 5) "
   ]
  },
  {
   "cell_type": "markdown",
   "metadata": {},
   "source": [
    "## Listas\n",
    "Las listas son una forma de almacenar una secuencia de objetos (iterables). Una lista puede contener objetos de diferentes tipos e incluso puede contener otras listas. La forma más fácil de construir una lista es con dos corchetes (`[]`) y separando los elementos con una coma (`[\"a\", \"b\"]`)"
   ]
  },
  {
   "cell_type": "code",
   "execution_count": 5,
   "metadata": {},
   "outputs": [
    {
     "name": "stdout",
     "output_type": "stream",
     "text": [
      "['John', 'Paul', 'George', 'Ringo']\n",
      "<class 'list'>\n",
      "[4.2, 3.8, 4.5, 2, 5]\n",
      "['mytext', 3.0, 7, [10, 20]]\n",
      "[]\n"
     ]
    }
   ],
   "source": [
    "beatles = [\"John\", \"Paul\", \"George\", \"Ringo\"]\n",
    "print(beatles)\n",
    "print(type(beatles)) \n",
    "notas_taller1 = [4.2, 3.8, 4.5, 2, 5]\n",
    "print(notas_taller1)\n",
    "random_list = ['mytext', 3.0, 7, [10, 20]]\n",
    "print(random_list)\n",
    "lista_vacia = []\n",
    "print(lista_vacia)"
   ]
  },
  {
   "cell_type": "markdown",
   "metadata": {},
   "source": [
    "Python es un método de programación orientado a objetos, es decir que casi todas las variables que definimos tienen ciertos atributos y propiedades. Las listas son un objeto que nos permite hacer diferentes operaciones. Empecemos partiendo nuestras listas en algunos subconjuntos.\n",
    "\n",
    "Cada elemento de una lista se encuentra en una posición. En Python se le conoce como *index* y **la primera posición es el 0**, la segunda es el 1 y así sucesivamente hasta llegar a la última posición la cual sería n - 1.\n",
    "\n",
    "Por ende, si queremos extraer el primer elemento de una lista debemos escribir `nombre_lista[0]`"
   ]
  },
  {
   "cell_type": "code",
   "execution_count": 6,
   "metadata": {},
   "outputs": [
    {
     "name": "stdout",
     "output_type": "stream",
     "text": [
      "John\n",
      "Paul\n",
      "Ringo\n",
      "George\n",
      "10\n"
     ]
    }
   ],
   "source": [
    "print(beatles[0])\n",
    "print(beatles[1])\n",
    "print(beatles[-1]) # Acceder al último elemento. Tenga en cuenta que es -1 y no -0 (:P).\n",
    "print(beatles[-2]) # Acceder al n-ésimo - 1 elemento.\n",
    "print(random_list[-1][0]) # Acceder al último elemento de la lista que es otra lista. Una vez en esa lista, accedemos al primer elemento de la lista"
   ]
  },
  {
   "cell_type": "markdown",
   "metadata": {},
   "source": [
    "Si queremos extraer más de un elemento podemos usar los siguientes trucos. Tenga en cuenta que los corchetes en Python son inclusivos por la izquierda pero exclusivos por la derecha."
   ]
  },
  {
   "cell_type": "code",
   "execution_count": 7,
   "metadata": {},
   "outputs": [
    {
     "name": "stdout",
     "output_type": "stream",
     "text": [
      "[1, 2, 3, 4, 5]\n",
      "[2, 3, 4, 5]\n",
      "[3]\n",
      "[1, 2, 3]\n",
      "[4, 5, 6, 7, 8, 9, 10]\n",
      "[1, 3, 5]\n",
      "[1, 3, 5, 7, 9]\n",
      "[10, 9, 8, 7, 6, 5, 4, 3, 2, 1]\n",
      "['Hola', 2, 3, 4, 5, 6, 7, 8, 9, 10]\n"
     ]
    }
   ],
   "source": [
    "example = [1, 2, 3, 4, 5, 6, 7, 8, 9, 10] \n",
    "print(example[0:5]) # Extraemos los primeros 5 elementos\n",
    "print(example[1:5]) # De los primeros 5 elementos, extraemos los últimos 4\n",
    "print(example[2:3]) # Solo extraemos el tercer elemento. No incluye el cuarto!\n",
    "print(example[:3]) # Desde el comienzo al tercer elemento. Note que es excluyente a la derecha\n",
    "print(example[3:]) # Desde el cuarto elemento hasta el final de la lista. Note que es incluyente a la izquierda\n",
    "print(example[0:6:2]) # Comenzamos a extraer de 2 en dos desde el elemento 1 hasta el elemento 10. Syntaxis: nombre_lista[indice_inicial:indice_final:tamaño_paso]\n",
    "print(example[::2]) # Extraer toda la lista de 2 en 2\n",
    "print(example[::-1]) # Poner la lista en orden inverso\n",
    "example[0] = \"Hola\" # También podemos modificar la lista\n",
    "print(example)"
   ]
  },
  {
   "cell_type": "markdown",
   "metadata": {},
   "source": [
    "Las operaciones básicas entre listas son muy similares a las operaciones entre strings. \n",
    "\n",
    "OJO: Las listas son estructuras de datos, no vectores."
   ]
  },
  {
   "cell_type": "code",
   "execution_count": 8,
   "metadata": {},
   "outputs": [
    {
     "name": "stdout",
     "output_type": "stream",
     "text": [
      "['Hola', 2, 3, 4, 5, 6, 7, 8, 9, 10, 'Hola', 2, 3, 4, 5, 6, 7, 8, 9, 10]\n",
      "['Hola', 2, 3, 4, 5, 6, 7, 8, 9, 10, 'Hola', 2, 3, 4, 5, 6, 7, 8, 9, 10, 'Hola', 2, 3, 4, 5, 6, 7, 8, 9, 10]\n",
      "['Hola', 2, 3, 4, 5, 6, 7, 8, 9, 10, 'Añadir nuevo elemento a la lista']\n"
     ]
    }
   ],
   "source": [
    "print(example + example)\n",
    "print(example * 3)\n",
    "print(example + [\"Añadir nuevo elemento a la lista\"])"
   ]
  },
  {
   "cell_type": "markdown",
   "metadata": {},
   "source": [
    "## Condiciones\n",
    "Antes de entrar a los *if statements* vamos a estudiar los diferentes tipos de condiciones:\n",
    "| Operador | Resultado\n",
    "| -------- | ---------\n",
    "|   ==     | Igualdad\n",
    "|   !=     | No es igual        \n",
    "|   <      | Menor que\n",
    "|   >      | Mayor que\n",
    "|   <=     | Menor o igual\n",
    "|   >=     | Mayor o igual\n",
    "|   and    | Verifica si dos condiciones se cumplen\n",
    "|   or     | Verifica si se cumple al menos una condición\n",
    "|   not    | Niega una condición\n",
    "|   in     | Verifica si un elemento está en una lista\n",
    "\n",
    "Veamos"
   ]
  },
  {
   "cell_type": "code",
   "execution_count": 9,
   "metadata": {},
   "outputs": [
    {
     "data": {
      "text/plain": [
       "True"
      ]
     },
     "execution_count": 9,
     "metadata": {},
     "output_type": "execute_result"
    }
   ],
   "source": [
    "x = 2\n",
    "condicion1 = x == 2 \n",
    "condicion1"
   ]
  },
  {
   "cell_type": "code",
   "execution_count": 10,
   "metadata": {},
   "outputs": [
    {
     "data": {
      "text/plain": [
       "False"
      ]
     },
     "execution_count": 10,
     "metadata": {},
     "output_type": "execute_result"
    }
   ],
   "source": [
    "condicion2 = x == 3 \n",
    "condicion2"
   ]
  },
  {
   "cell_type": "code",
   "execution_count": 11,
   "metadata": {},
   "outputs": [
    {
     "data": {
      "text/plain": [
       "True"
      ]
     },
     "execution_count": 11,
     "metadata": {},
     "output_type": "execute_result"
    }
   ],
   "source": [
    "condicion3 = x < 3\n",
    "condicion3 "
   ]
  },
  {
   "cell_type": "code",
   "execution_count": 12,
   "metadata": {},
   "outputs": [
    {
     "name": "stdout",
     "output_type": "stream",
     "text": [
      "False\n",
      "False\n",
      "True\n",
      "True\n"
     ]
    }
   ],
   "source": [
    "# Recordemos en breve las tablas lógicas de verdad\n",
    "print(condicion1 and condicion2) # T & F -> F\n",
    "print(condicion2 and condicion1) # F & T -> F\n",
    "print(condicion1 or condicion2) # T | F -> T\n",
    "print(condicion2 or condicion1) # F | T -> T"
   ]
  },
  {
   "cell_type": "markdown",
   "metadata": {},
   "source": [
    "## Control flows\n",
    "Ejecutar código en caso de que se cumplan ciertas condiciones. Acá tenemos 3 comandos básicos: `if`, `else` y `elif`.\n",
    "\n",
    "La sintaxis para los *control flows* es:\n",
    "\n",
    "```\n",
    "if condicion1:\n",
    "    # Si la condición es True se ejecuta este chunk de código\n",
    "    print(\"condicion1 es verdadera\")\n",
    "elif condicion2:\n",
    "    # Si la condición 1 es False y la condición 2 es True, se ejecuta este chunk_de_codigo\n",
    "    print(\"condicion1 es falsa y la condicion2 es verdadera\")\n",
    "else:\n",
    "    # Si la condición 1 y 2 son falsas, se ejecuta este chunk_de_codigo\n",
    "    print(\"condicion1 y la condicion 2 son falsas\")\n",
    "```\n",
    "\n",
    "Python es un lenguaje minimalista por lo que para hacer *control flows* no usa paréntesis ni corchetes. Después de la condición solo se debe incluir el símbolo de dos puntos (`:`) y el código que se desea correr si la condicion es verdadera debe estar debajo e indentado por 4 espacios (un tab)."
   ]
  },
  {
   "cell_type": "code",
   "execution_count": 13,
   "metadata": {},
   "outputs": [
    {
     "name": "stdout",
     "output_type": "stream",
     "text": [
      "Puede visualizar el PID\n"
     ]
    }
   ],
   "source": [
    "pid_explorer = \"Enrique\"\n",
    "pid_crator = \"Jose\"\n",
    "\n",
    "if pid_explorer == \"Enrique\" or pid_explorer == \"Jose\": \n",
    "    print(\"Puede visualizar el PID\")\n",
    "\n",
    "if pid_explorer == pid_crator:\n",
    "    print(\"Puede modificar el PID\")"
   ]
  },
  {
   "cell_type": "code",
   "execution_count": 14,
   "metadata": {},
   "outputs": [
    {
     "name": "stdout",
     "output_type": "stream",
     "text": [
      "Enrique no tiene permisos para modificar el PID \n"
     ]
    }
   ],
   "source": [
    "if pid_explorer == pid_crator:\n",
    "    print(\"Puede modificar el PID\")\n",
    "else: \n",
    "    print(pid_explorer + \" no tiene permisos para modificar el PID \")"
   ]
  },
  {
   "cell_type": "code",
   "execution_count": 15,
   "metadata": {},
   "outputs": [
    {
     "name": "stdout",
     "output_type": "stream",
     "text": [
      "Oscar puede modificar el PID creado por Jose\n"
     ]
    }
   ],
   "source": [
    "pid_owner = \"Oscar\"\n",
    "\n",
    "if pid_owner == pid_crator:\n",
    "    print(\"Puede modificar el PID\")\n",
    "elif pid_owner == pid_explorer:\n",
    "    print(\"Puede visualizar y modificar el PID\")\n",
    "else: \n",
    "    print(pid_owner + \" puede modificar el PID creado por \" + pid_crator)"
   ]
  },
  {
   "cell_type": "markdown",
   "metadata": {},
   "source": [
    "## Loops\n",
    "\n",
    "Existen dos tipos de loops.\n",
    "- *for loops* en donde se itera sobre una lista de elementos.\n",
    "- *while loops* en donde se itera hasta que cierta condición se deje de cumplir"
   ]
  },
  {
   "cell_type": "code",
   "execution_count": 16,
   "metadata": {},
   "outputs": [
    {
     "name": "stdout",
     "output_type": "stream",
     "text": [
      "0\n",
      "1\n",
      "2\n",
      "3\n",
      "4\n"
     ]
    }
   ],
   "source": [
    "# Iterar sobre los números del 0 al 4\n",
    "for x in range(0, 5):\n",
    "    print(x)"
   ]
  },
  {
   "cell_type": "code",
   "execution_count": 17,
   "metadata": {},
   "outputs": [
    {
     "name": "stdout",
     "output_type": "stream",
     "text": [
      "3\n",
      "5\n",
      "7\n"
     ]
    }
   ],
   "source": [
    "# Iterar sobre los números del 3 al 7 de dos en dos\n",
    "for x in range(3, 8, 2):\n",
    "    print(x)"
   ]
  },
  {
   "cell_type": "code",
   "execution_count": 18,
   "metadata": {},
   "outputs": [
    {
     "name": "stdout",
     "output_type": "stream",
     "text": [
      "P\n",
      "y\n",
      "t\n",
      "h\n",
      "o\n",
      "n\n"
     ]
    }
   ],
   "source": [
    "# También se puede iterar sobre un string\n",
    "for x in \"Python\":\n",
    "   print(x)"
   ]
  },
  {
   "cell_type": "code",
   "execution_count": 19,
   "metadata": {},
   "outputs": [
    {
     "name": "stdout",
     "output_type": "stream",
     "text": [
      "Harry\n",
      "Hermione\n",
      "Ron\n"
     ]
    }
   ],
   "source": [
    "# Break statement\n",
    "mago = [\"Harry\", \"Hermione\", \"Ron\", \"Voldemort\", \"Dumbledore\"]\n",
    "for x in mago:\n",
    "    if x == \"Voldemort\":\n",
    "        break # Es como un freno de mano\n",
    "    print(x)"
   ]
  },
  {
   "cell_type": "code",
   "execution_count": 20,
   "metadata": {},
   "outputs": [
    {
     "name": "stdout",
     "output_type": "stream",
     "text": [
      "Harry\n",
      "Hermione\n",
      "Ron\n",
      "Dumbledore\n"
     ]
    }
   ],
   "source": [
    "# Continue statement\n",
    "for x in mago:\n",
    "    if x == \"Voldemort\":\n",
    "        continue # Pare la iteración en la que va y continue con la siguiente\n",
    "    print(x)"
   ]
  },
  {
   "cell_type": "code",
   "execution_count": 21,
   "metadata": {
    "tags": []
   },
   "outputs": [
    {
     "name": "stdout",
     "output_type": "stream",
     "text": [
      "1\n",
      "2\n",
      "3\n",
      "4\n"
     ]
    }
   ],
   "source": [
    "x = 1\n",
    "while x < 5: \n",
    "    print(x)\n",
    "    x += 1"
   ]
  },
  {
   "cell_type": "markdown",
   "metadata": {},
   "source": [
    "## Funciones\n",
    "La sintaxis sería:\n",
    "```python\n",
    "def nombre_funcion(parametro1, parametro2, ...):\n",
    "    \"\"\"\n",
    "    Descripción de lo que hace la función\n",
    "\n",
    "    :param parametro1: Descripción de qué es el input.\n",
    "    :type parametro1: type\n",
    "    :param parametro2: Descripción de qué es el input.\n",
    "    :type parametro2: type\n",
    "    ...\n",
    "    :return type: Descripción de lo que es el output y qué valores puede tomar.\n",
    "    \"\"\"\n",
    "\n",
    "    # Bloque de código\n",
    "    \n",
    "    return resultado\n",
    "```"
   ]
  },
  {
   "cell_type": "code",
   "execution_count": 22,
   "metadata": {},
   "outputs": [],
   "source": [
    "def suma_dos_numeros(a, b):\n",
    "    \"\"\"\n",
    "    Esta función toma dos números y entrega la suma de estos.\n",
    "\n",
    "    :param a: número a sumar.\n",
    "    :type a: float.\n",
    "    :param b: número a sumar.\n",
    "    :type b: float.\n",
    "    :return float: suma de a + b\n",
    "    \"\"\"\n",
    "    \n",
    "    resultado = a + b\n",
    "\n",
    "    return resultado"
   ]
  },
  {
   "cell_type": "code",
   "execution_count": 23,
   "metadata": {},
   "outputs": [
    {
     "name": "stdout",
     "output_type": "stream",
     "text": [
      "\u001b[1;31mSignature:\u001b[0m \u001b[0msuma_dos_numeros\u001b[0m\u001b[1;33m(\u001b[0m\u001b[0ma\u001b[0m\u001b[1;33m,\u001b[0m \u001b[0mb\u001b[0m\u001b[1;33m)\u001b[0m\u001b[1;33m\u001b[0m\u001b[1;33m\u001b[0m\u001b[0m\n",
      "\u001b[1;31mDocstring:\u001b[0m\n",
      "Esta función toma dos números y entrega la suma de estos.\n",
      "\n",
      ":param a: número a sumar.\n",
      ":type a: float.\n",
      ":param b: número a sumar.\n",
      ":type b: float.\n",
      ":return float: suma de a + b\n",
      "\u001b[1;31mFile:\u001b[0m      c:\\users\\arias\\appdata\\local\\temp\\ipykernel_29652\\1878952509.py\n",
      "\u001b[1;31mType:\u001b[0m      function"
     ]
    }
   ],
   "source": [
    "suma_dos_numeros?"
   ]
  },
  {
   "cell_type": "code",
   "execution_count": 24,
   "metadata": {},
   "outputs": [
    {
     "data": {
      "text/plain": [
       "5"
      ]
     },
     "execution_count": 24,
     "metadata": {},
     "output_type": "execute_result"
    }
   ],
   "source": [
    "suma_dos_numeros(2, 3)"
   ]
  },
  {
   "cell_type": "markdown",
   "metadata": {},
   "source": [
    "### Diccionarios\n",
    "\n",
    "Los diccionarios son usados para hacer variables que mapean e indexan elementos no organizados. En un formato de llaves y valores.\n",
    "\n",
    "```python\n",
    "diccionario = {\n",
    "     key1: value1,\n",
    "     key2: value2,\n",
    "        .\n",
    "        .\n",
    "        .\n",
    "    }\n",
    "```\n",
    "1. Defina \"a\" como un entero y \"b\" como un caracter.\n",
    "2. Defina un dictionario llamado dict_1 donde incluya un número (float), \"a\", \"b\" y lista_1\n",
    "3. Accedamos a los elementos"
   ]
  },
  {
   "cell_type": "code",
   "execution_count": 28,
   "metadata": {},
   "outputs": [],
   "source": [
    "lista_1 = [13,3,7,45]\n",
    "a = 7\n",
    "b = 'Python'\n",
    "diccionario = {\"a\": a, \"b\": b, \"lista\": lista_1, \"numero\":3.14}"
   ]
  },
  {
   "cell_type": "code",
   "execution_count": 29,
   "metadata": {},
   "outputs": [
    {
     "data": {
      "text/plain": [
       "{'a': 7, 'b': 'Python', 'lista': [13, 3, 7, 45], 'numero': 3.14}"
      ]
     },
     "execution_count": 29,
     "metadata": {},
     "output_type": "execute_result"
    }
   ],
   "source": [
    "diccionario"
   ]
  },
  {
   "cell_type": "code",
   "execution_count": 30,
   "metadata": {},
   "outputs": [
    {
     "data": {
      "text/plain": [
       "[13, 3, 7, 45]"
      ]
     },
     "execution_count": 30,
     "metadata": {},
     "output_type": "execute_result"
    }
   ],
   "source": [
    "diccionario['lista']"
   ]
  },
  {
   "cell_type": "code",
   "execution_count": 31,
   "metadata": {},
   "outputs": [],
   "source": [
    "diccionario = {'a': a, 'b': b, 'lista': lista_1, 'numero':3.14}"
   ]
  },
  {
   "cell_type": "code",
   "execution_count": 33,
   "metadata": {},
   "outputs": [
    {
     "data": {
      "text/plain": [
       "{'a': 7, 'b': 'Python', 'lista': [13, 3, 7, 45], 'numero': 3.14}"
      ]
     },
     "execution_count": 33,
     "metadata": {},
     "output_type": "execute_result"
    }
   ],
   "source": [
    "diccionario"
   ]
  },
  {
   "cell_type": "code",
   "execution_count": 34,
   "metadata": {},
   "outputs": [],
   "source": [
    "perro = {'raza': 'Alaska', 'peludo': True, 'edad': 3, 3: 'Si'}"
   ]
  },
  {
   "cell_type": "code",
   "execution_count": 35,
   "metadata": {},
   "outputs": [
    {
     "name": "stdout",
     "output_type": "stream",
     "text": [
      "Alaska\n",
      "True\n",
      "Si\n"
     ]
    }
   ],
   "source": [
    "print(perro['raza'])\n",
    "print(perro['peludo'])\n",
    "print(perro[3])"
   ]
  },
  {
   "cell_type": "code",
   "execution_count": 36,
   "metadata": {},
   "outputs": [
    {
     "name": "stdout",
     "output_type": "stream",
     "text": [
      "{'raza': 'Golden', 'peludo': True, 'edad': 19, 3: 'Si'}\n"
     ]
    }
   ],
   "source": [
    "perro['raza'] = 'Golden'\n",
    "perro['edad'] += 16\n",
    "print(perro)"
   ]
  },
  {
   "cell_type": "markdown",
   "metadata": {},
   "source": [
    "## Submodulos en PID"
   ]
  },
  {
   "cell_type": "code",
   "execution_count": 37,
   "metadata": {},
   "outputs": [],
   "source": [
    "## Diccionario de submodulos"
   ]
  },
  {
   "cell_type": "code",
   "execution_count": 38,
   "metadata": {},
   "outputs": [],
   "source": [
    "equipo = {\n",
    "    'id': '3.1.1',\n",
    "    'equipment': 'Eq_1_P',\n",
    "    'label': 'Rig_D_T1_P',\n",
    "    'type_geometry': 'Desviado',\n",
    "    'type_use': 'Producer',\n",
    "    'quantity': 0,\n",
    "    'quantity_context': [4],\n",
    "    'iva': 0.19,\n",
    "    'uncertainty': [\n",
    "        {'category': 1, 'value': 1.0},\n",
    "        {'category': 7, 'value': 8.3},\n",
    "        {'category': 8, 'value': 8.6},\n",
    "        {'category': 9, 'value': 1.0},\n",
    "        {'category': 10, 'value': 2.0}\n",
    "    ]\n",
    "}"
   ]
  },
  {
   "cell_type": "markdown",
   "metadata": {},
   "source": [
    "# Programación orientada a objetos.\n",
    " \n",
    "La programación orientada a objetos (OOP) es una forma de estructurar la programación agrupando comportamientos y propiedades en entidades individuales que se llaman **objetos**.\n",
    " \n",
    "Un objeto contiene dos puntos importantes:\n",
    " \n",
    "* Atributos: Conjunto de datos.\n",
    "* Métodos: Comportamientos posibles.\n",
    " \n",
    "__Clases__ vs __Instancias__.\n",
    "    * __Clase__: Este es el molde que define como un objeto debe ser creado. No contiene datos.\n",
    "    * __Instancia__: Este se construye a partir de la clase y contiene datos reales.\n",
    " \n",
    "-> La clase es un formulario y la instancia es este formulario con la información diligenciada."
   ]
  },
  {
   "cell_type": "markdown",
   "metadata": {},
   "source": [
    "La sintaxis sería:\n",
    "```python\n",
    "    class NombreClase:\n",
    "        def __init__():\n",
    "            self.atributo1 = valor\n",
    "\n",
    "        def metodo1(self, parametros):\n",
    "            pass\n",
    "    \n",
    "```"
   ]
  },
  {
   "cell_type": "code",
   "execution_count": 50,
   "metadata": {},
   "outputs": [],
   "source": [
    "class UsuarioPID:\n",
    "    def __init__(self, nombre, apellido, rol): # Parametros que necesito para mi objeto\n",
    "        \n",
    "        # Atributos\n",
    "        self.nombre = nombre\n",
    "        self.apellido = apellido\n",
    "        self.rol = rol\n",
    "\n",
    "    def presentacion(self): # Funcion que se puede hacer\n",
    "        print(f\"Hola, mi nombre es {self.nombre} {self.apellido} y mi rol en la aplicación es de {self.rol}\")"
   ]
  },
  {
   "cell_type": "code",
   "execution_count": 51,
   "metadata": {},
   "outputs": [],
   "source": [
    "usuario1 = UsuarioPID('Jose', 'Ñungo', 'Desarrollador')\n",
    "usuario2 = UsuarioPID('Enrique', 'Gallarado', 'Administrador')"
   ]
  },
  {
   "cell_type": "code",
   "execution_count": 52,
   "metadata": {},
   "outputs": [
    {
     "name": "stdout",
     "output_type": "stream",
     "text": [
      "Hola, mi nombre es Jose Ñungo y mi rol en la aplicación es de Desarrollador\n",
      "Hola, mi nombre es Enrique Gallarado y mi rol en la aplicación es de Administrador\n"
     ]
    }
   ],
   "source": [
    "usuario1.presentacion()\n",
    "usuario2.presentacion()"
   ]
  },
  {
   "cell_type": "markdown",
   "metadata": {},
   "source": [
    "# Paquetes (Introducción Pandas)"
   ]
  },
  {
   "cell_type": "markdown",
   "metadata": {},
   "source": [
    "_Pandas_, este es el paquete más robusto y famoso en Python para la manipulación de bases de datos.\n",
    "\n",
    "En Pandas existen tres tipos de estructuras: \n",
    "\n",
    "- Series: data en un arreglo 1D, etiquetada, homogénea e inmutable de tamaño\n",
    "- **Data Frames**: arreglo 2D, tamaño mutable, columnas heterogéneas, etiquetadas\n",
    "- Panel: arreglo 3D, tamaño mutable."
   ]
  },
  {
   "cell_type": "markdown",
   "metadata": {},
   "source": [
    "<img src=\"https://pandas.pydata.org/docs/_images/01_table_dataframe.svg\" alt=\"Pandas DataFrame\">\n",
    "<img src=\"https://pandas.pydata.org/docs/_images/01_table_series.svg\" alt=\"Pandas DataFrame\">"
   ]
  },
  {
   "cell_type": "code",
   "execution_count": 2,
   "metadata": {},
   "outputs": [],
   "source": [
    "import pandas as pd"
   ]
  },
  {
   "cell_type": "code",
   "execution_count": 11,
   "metadata": {},
   "outputs": [],
   "source": [
    "# Cree 4 listas\n",
    "nombres=['Mateo', 'Sara', 'Juan', 'Carla']\n",
    "sexo=['F', 'M', 'M', None]\n",
    "edad=[24,21,25,30]\n",
    "notas=[4.5, 2, 3.25, 4]"
   ]
  },
  {
   "cell_type": "code",
   "execution_count": 13,
   "metadata": {},
   "outputs": [
    {
     "data": {
      "text/plain": [
       "{'names': ['Mateo', 'Sara', 'Juan', 'Carla'],\n",
       " 'sex': ['F', 'M', 'M', None],\n",
       " 'age': [24, 21, 25, 30],\n",
       " 'grades': [4.5, 2, 3.25, 4]}"
      ]
     },
     "execution_count": 13,
     "metadata": {},
     "output_type": "execute_result"
    }
   ],
   "source": [
    "diccionario={'names':nombres, 'sex':sexo, 'age':edad, 'grades':notas} # Contruya un diccionario\n",
    "diccionario"
   ]
  },
  {
   "cell_type": "code",
   "execution_count": 14,
   "metadata": {},
   "outputs": [],
   "source": [
    "data=pd.DataFrame(diccionario) # Conviértalo en data frame"
   ]
  },
  {
   "cell_type": "code",
   "execution_count": 15,
   "metadata": {},
   "outputs": [
    {
     "data": {
      "text/html": [
       "<div>\n",
       "<style scoped>\n",
       "    .dataframe tbody tr th:only-of-type {\n",
       "        vertical-align: middle;\n",
       "    }\n",
       "\n",
       "    .dataframe tbody tr th {\n",
       "        vertical-align: top;\n",
       "    }\n",
       "\n",
       "    .dataframe thead th {\n",
       "        text-align: right;\n",
       "    }\n",
       "</style>\n",
       "<table border=\"1\" class=\"dataframe\">\n",
       "  <thead>\n",
       "    <tr style=\"text-align: right;\">\n",
       "      <th></th>\n",
       "      <th>names</th>\n",
       "      <th>sex</th>\n",
       "      <th>age</th>\n",
       "      <th>grades</th>\n",
       "    </tr>\n",
       "  </thead>\n",
       "  <tbody>\n",
       "    <tr>\n",
       "      <th>0</th>\n",
       "      <td>Mateo</td>\n",
       "      <td>F</td>\n",
       "      <td>24</td>\n",
       "      <td>4.50</td>\n",
       "    </tr>\n",
       "    <tr>\n",
       "      <th>1</th>\n",
       "      <td>Sara</td>\n",
       "      <td>M</td>\n",
       "      <td>21</td>\n",
       "      <td>2.00</td>\n",
       "    </tr>\n",
       "    <tr>\n",
       "      <th>2</th>\n",
       "      <td>Juan</td>\n",
       "      <td>M</td>\n",
       "      <td>25</td>\n",
       "      <td>3.25</td>\n",
       "    </tr>\n",
       "    <tr>\n",
       "      <th>3</th>\n",
       "      <td>Carla</td>\n",
       "      <td>None</td>\n",
       "      <td>30</td>\n",
       "      <td>4.00</td>\n",
       "    </tr>\n",
       "  </tbody>\n",
       "</table>\n",
       "</div>"
      ],
      "text/plain": [
       "   names   sex  age  grades\n",
       "0  Mateo     F   24    4.50\n",
       "1   Sara     M   21    2.00\n",
       "2   Juan     M   25    3.25\n",
       "3  Carla  None   30    4.00"
      ]
     },
     "execution_count": 15,
     "metadata": {},
     "output_type": "execute_result"
    }
   ],
   "source": [
    "data"
   ]
  },
  {
   "cell_type": "markdown",
   "metadata": {},
   "source": [
    "## Cargar archivos como DataFrame"
   ]
  },
  {
   "cell_type": "code",
   "execution_count": 14,
   "metadata": {},
   "outputs": [
    {
     "data": {
      "text/html": [
       "<div>\n",
       "<style scoped>\n",
       "    .dataframe tbody tr th:only-of-type {\n",
       "        vertical-align: middle;\n",
       "    }\n",
       "\n",
       "    .dataframe tbody tr th {\n",
       "        vertical-align: top;\n",
       "    }\n",
       "\n",
       "    .dataframe thead th {\n",
       "        text-align: right;\n",
       "    }\n",
       "</style>\n",
       "<table border=\"1\" class=\"dataframe\">\n",
       "  <thead>\n",
       "    <tr style=\"text-align: right;\">\n",
       "      <th></th>\n",
       "      <th>ENTITY</th>\n",
       "      <th>IDEA_ID</th>\n",
       "      <th>IDEA_VERSION</th>\n",
       "      <th>TYPE_CATEGORY</th>\n",
       "      <th>CODE_CATEGORY</th>\n",
       "      <th>FIELD_AGREEMENT_ID</th>\n",
       "      <th>FACILITY</th>\n",
       "      <th>CLUSTER</th>\n",
       "      <th>GROUP</th>\n",
       "      <th>RIG</th>\n",
       "      <th>...</th>\n",
       "      <th>RECOVERY_METHOD</th>\n",
       "      <th>SCENARIO</th>\n",
       "      <th>PATRON</th>\n",
       "      <th>FIXED</th>\n",
       "      <th>VOLUME_DATE</th>\n",
       "      <th>ACTIVITY_DATE</th>\n",
       "      <th>WELL_TYPE_U</th>\n",
       "      <th>WELL_ABANDONMENT_COST</th>\n",
       "      <th>DELTA_VOLUME</th>\n",
       "      <th>DELTA_ACTIVITY</th>\n",
       "    </tr>\n",
       "  </thead>\n",
       "  <tbody>\n",
       "    <tr>\n",
       "      <th>0</th>\n",
       "      <td>107031-DOI-RICB-009</td>\n",
       "      <td>107031-3</td>\n",
       "      <td>1</td>\n",
       "      <td>1</td>\n",
       "      <td>PRO1</td>\n",
       "      <td>107031</td>\n",
       "      <td>RCN</td>\n",
       "      <td>3</td>\n",
       "      <td>N</td>\n",
       "      <td>Eq_1_P</td>\n",
       "      <td>...</td>\n",
       "      <td>Secondary</td>\n",
       "      <td>1</td>\n",
       "      <td>0</td>\n",
       "      <td>1</td>\n",
       "      <td>2026-06-01</td>\n",
       "      <td>2026-06-01 00:00:00</td>\n",
       "      <td>Injector</td>\n",
       "      <td>1.0</td>\n",
       "      <td>45</td>\n",
       "      <td>45.0</td>\n",
       "    </tr>\n",
       "    <tr>\n",
       "      <th>1</th>\n",
       "      <td>107031-DOI-RICB-019</td>\n",
       "      <td>107031-3</td>\n",
       "      <td>1</td>\n",
       "      <td>1</td>\n",
       "      <td>PRO1</td>\n",
       "      <td>107031</td>\n",
       "      <td>RCN</td>\n",
       "      <td>30</td>\n",
       "      <td>N</td>\n",
       "      <td>Eq_1_P</td>\n",
       "      <td>...</td>\n",
       "      <td>Secondary</td>\n",
       "      <td>1</td>\n",
       "      <td>1</td>\n",
       "      <td>1</td>\n",
       "      <td>2027-04-01</td>\n",
       "      <td>2027-04-01 00:00:00</td>\n",
       "      <td>Injector</td>\n",
       "      <td>1.0</td>\n",
       "      <td>55</td>\n",
       "      <td>55.0</td>\n",
       "    </tr>\n",
       "    <tr>\n",
       "      <th>2</th>\n",
       "      <td>107031-DOI-RICB-024</td>\n",
       "      <td>107031-3</td>\n",
       "      <td>1</td>\n",
       "      <td>1</td>\n",
       "      <td>PRO1</td>\n",
       "      <td>107031</td>\n",
       "      <td>RCN</td>\n",
       "      <td>18</td>\n",
       "      <td>N</td>\n",
       "      <td>Eq_1_P</td>\n",
       "      <td>...</td>\n",
       "      <td>Secondary</td>\n",
       "      <td>1</td>\n",
       "      <td>2</td>\n",
       "      <td>1</td>\n",
       "      <td>2026-10-01</td>\n",
       "      <td>2026-10-01 00:00:00</td>\n",
       "      <td>Injector</td>\n",
       "      <td>1.0</td>\n",
       "      <td>49</td>\n",
       "      <td>49.0</td>\n",
       "    </tr>\n",
       "    <tr>\n",
       "      <th>3</th>\n",
       "      <td>RIC-001LBA</td>\n",
       "      <td>107031-3</td>\n",
       "      <td>1</td>\n",
       "      <td>1</td>\n",
       "      <td>PRO1</td>\n",
       "      <td>107031</td>\n",
       "      <td>RCN</td>\n",
       "      <td>23</td>\n",
       "      <td>N</td>\n",
       "      <td>Eq_1_P</td>\n",
       "      <td>...</td>\n",
       "      <td>Secondary</td>\n",
       "      <td>1</td>\n",
       "      <td>3</td>\n",
       "      <td>1</td>\n",
       "      <td>2027-02-01</td>\n",
       "      <td>NaN</td>\n",
       "      <td>Injector</td>\n",
       "      <td>1.0</td>\n",
       "      <td>53</td>\n",
       "      <td>NaN</td>\n",
       "    </tr>\n",
       "    <tr>\n",
       "      <th>4</th>\n",
       "      <td>RIC-013</td>\n",
       "      <td>107031-3</td>\n",
       "      <td>1</td>\n",
       "      <td>1</td>\n",
       "      <td>PRO1</td>\n",
       "      <td>107031</td>\n",
       "      <td>RCN</td>\n",
       "      <td>26</td>\n",
       "      <td>N</td>\n",
       "      <td>Eq_1_P</td>\n",
       "      <td>...</td>\n",
       "      <td>Secondary</td>\n",
       "      <td>1</td>\n",
       "      <td>5</td>\n",
       "      <td>1</td>\n",
       "      <td>2027-03-01</td>\n",
       "      <td>NaN</td>\n",
       "      <td>Injector</td>\n",
       "      <td>1.0</td>\n",
       "      <td>54</td>\n",
       "      <td>NaN</td>\n",
       "    </tr>\n",
       "    <tr>\n",
       "      <th>...</th>\n",
       "      <td>...</td>\n",
       "      <td>...</td>\n",
       "      <td>...</td>\n",
       "      <td>...</td>\n",
       "      <td>...</td>\n",
       "      <td>...</td>\n",
       "      <td>...</td>\n",
       "      <td>...</td>\n",
       "      <td>...</td>\n",
       "      <td>...</td>\n",
       "      <td>...</td>\n",
       "      <td>...</td>\n",
       "      <td>...</td>\n",
       "      <td>...</td>\n",
       "      <td>...</td>\n",
       "      <td>...</td>\n",
       "      <td>...</td>\n",
       "      <td>...</td>\n",
       "      <td>...</td>\n",
       "      <td>...</td>\n",
       "      <td>...</td>\n",
       "    </tr>\n",
       "    <tr>\n",
       "      <th>106</th>\n",
       "      <td>RIC-049LBA</td>\n",
       "      <td>107031-0</td>\n",
       "      <td>3</td>\n",
       "      <td>0</td>\n",
       "      <td>OP1</td>\n",
       "      <td>107031</td>\n",
       "      <td>RCN</td>\n",
       "      <td>29</td>\n",
       "      <td>N</td>\n",
       "      <td>Eq_2_WO</td>\n",
       "      <td>...</td>\n",
       "      <td>Basic</td>\n",
       "      <td>1</td>\n",
       "      <td>15</td>\n",
       "      <td>1</td>\n",
       "      <td>2021-09-01</td>\n",
       "      <td>NaN</td>\n",
       "      <td>Injector</td>\n",
       "      <td>1.0</td>\n",
       "      <td>-12</td>\n",
       "      <td>NaN</td>\n",
       "    </tr>\n",
       "    <tr>\n",
       "      <th>107</th>\n",
       "      <td>RIC-049SSA</td>\n",
       "      <td>107031-0</td>\n",
       "      <td>3</td>\n",
       "      <td>0</td>\n",
       "      <td>OP1</td>\n",
       "      <td>107031</td>\n",
       "      <td>RCN</td>\n",
       "      <td>29</td>\n",
       "      <td>N</td>\n",
       "      <td>Eq_2_WO</td>\n",
       "      <td>...</td>\n",
       "      <td>Basic</td>\n",
       "      <td>1</td>\n",
       "      <td>16</td>\n",
       "      <td>1</td>\n",
       "      <td>2021-09-01</td>\n",
       "      <td>NaN</td>\n",
       "      <td>Injector</td>\n",
       "      <td>1.0</td>\n",
       "      <td>-12</td>\n",
       "      <td>NaN</td>\n",
       "    </tr>\n",
       "    <tr>\n",
       "      <th>108</th>\n",
       "      <td>RIC-050LBA</td>\n",
       "      <td>107031-0</td>\n",
       "      <td>3</td>\n",
       "      <td>0</td>\n",
       "      <td>OP1</td>\n",
       "      <td>107031</td>\n",
       "      <td>RCN</td>\n",
       "      <td>29</td>\n",
       "      <td>N</td>\n",
       "      <td>Eq_2_WO</td>\n",
       "      <td>...</td>\n",
       "      <td>Basic</td>\n",
       "      <td>1</td>\n",
       "      <td>18</td>\n",
       "      <td>1</td>\n",
       "      <td>2021-09-01</td>\n",
       "      <td>NaN</td>\n",
       "      <td>Injector</td>\n",
       "      <td>1.0</td>\n",
       "      <td>-12</td>\n",
       "      <td>NaN</td>\n",
       "    </tr>\n",
       "    <tr>\n",
       "      <th>109</th>\n",
       "      <td>RIC-085T</td>\n",
       "      <td>107031-0</td>\n",
       "      <td>3</td>\n",
       "      <td>0</td>\n",
       "      <td>OP1</td>\n",
       "      <td>107031</td>\n",
       "      <td>RCN</td>\n",
       "      <td>29</td>\n",
       "      <td>N</td>\n",
       "      <td>Eq_2_WO</td>\n",
       "      <td>...</td>\n",
       "      <td>Basic</td>\n",
       "      <td>1</td>\n",
       "      <td>23</td>\n",
       "      <td>1</td>\n",
       "      <td>2021-09-01</td>\n",
       "      <td>NaN</td>\n",
       "      <td>Injector</td>\n",
       "      <td>1.0</td>\n",
       "      <td>-12</td>\n",
       "      <td>NaN</td>\n",
       "    </tr>\n",
       "    <tr>\n",
       "      <th>110</th>\n",
       "      <td>RIC-029</td>\n",
       "      <td>107031-3</td>\n",
       "      <td>1</td>\n",
       "      <td>1</td>\n",
       "      <td>PRO1</td>\n",
       "      <td>107031</td>\n",
       "      <td>RCN</td>\n",
       "      <td>45</td>\n",
       "      <td>N</td>\n",
       "      <td>Eq_2_WO</td>\n",
       "      <td>...</td>\n",
       "      <td>Secondary</td>\n",
       "      <td>1</td>\n",
       "      <td>-1</td>\n",
       "      <td>1</td>\n",
       "      <td>2027-02-01</td>\n",
       "      <td>2027-02-01 00:00:00</td>\n",
       "      <td>Disposal</td>\n",
       "      <td>1.0</td>\n",
       "      <td>53</td>\n",
       "      <td>53.0</td>\n",
       "    </tr>\n",
       "  </tbody>\n",
       "</table>\n",
       "<p>111 rows × 21 columns</p>\n",
       "</div>"
      ],
      "text/plain": [
       "                  ENTITY   IDEA_ID  IDEA_VERSION  TYPE_CATEGORY CODE_CATEGORY  \\\n",
       "0    107031-DOI-RICB-009  107031-3             1              1          PRO1   \n",
       "1    107031-DOI-RICB-019  107031-3             1              1          PRO1   \n",
       "2    107031-DOI-RICB-024  107031-3             1              1          PRO1   \n",
       "3             RIC-001LBA  107031-3             1              1          PRO1   \n",
       "4                RIC-013  107031-3             1              1          PRO1   \n",
       "..                   ...       ...           ...            ...           ...   \n",
       "106           RIC-049LBA  107031-0             3              0           OP1   \n",
       "107           RIC-049SSA  107031-0             3              0           OP1   \n",
       "108           RIC-050LBA  107031-0             3              0           OP1   \n",
       "109             RIC-085T  107031-0             3              0           OP1   \n",
       "110              RIC-029  107031-3             1              1          PRO1   \n",
       "\n",
       "     FIELD_AGREEMENT_ID FACILITY  CLUSTER GROUP      RIG  ... RECOVERY_METHOD  \\\n",
       "0                107031      RCN        3     N   Eq_1_P  ...       Secondary   \n",
       "1                107031      RCN       30     N   Eq_1_P  ...       Secondary   \n",
       "2                107031      RCN       18     N   Eq_1_P  ...       Secondary   \n",
       "3                107031      RCN       23     N   Eq_1_P  ...       Secondary   \n",
       "4                107031      RCN       26     N   Eq_1_P  ...       Secondary   \n",
       "..                  ...      ...      ...   ...      ...  ...             ...   \n",
       "106              107031      RCN       29     N  Eq_2_WO  ...           Basic   \n",
       "107              107031      RCN       29     N  Eq_2_WO  ...           Basic   \n",
       "108              107031      RCN       29     N  Eq_2_WO  ...           Basic   \n",
       "109              107031      RCN       29     N  Eq_2_WO  ...           Basic   \n",
       "110              107031      RCN       45     N  Eq_2_WO  ...       Secondary   \n",
       "\n",
       "    SCENARIO  PATRON FIXED  VOLUME_DATE        ACTIVITY_DATE WELL_TYPE_U  \\\n",
       "0          1       0     1   2026-06-01  2026-06-01 00:00:00    Injector   \n",
       "1          1       1     1   2027-04-01  2027-04-01 00:00:00    Injector   \n",
       "2          1       2     1   2026-10-01  2026-10-01 00:00:00    Injector   \n",
       "3          1       3     1   2027-02-01                  NaN    Injector   \n",
       "4          1       5     1   2027-03-01                  NaN    Injector   \n",
       "..       ...     ...   ...          ...                  ...         ...   \n",
       "106        1      15     1   2021-09-01                  NaN    Injector   \n",
       "107        1      16     1   2021-09-01                  NaN    Injector   \n",
       "108        1      18     1   2021-09-01                  NaN    Injector   \n",
       "109        1      23     1   2021-09-01                  NaN    Injector   \n",
       "110        1      -1     1   2027-02-01  2027-02-01 00:00:00    Disposal   \n",
       "\n",
       "    WELL_ABANDONMENT_COST  DELTA_VOLUME  DELTA_ACTIVITY  \n",
       "0                     1.0            45            45.0  \n",
       "1                     1.0            55            55.0  \n",
       "2                     1.0            49            49.0  \n",
       "3                     1.0            53             NaN  \n",
       "4                     1.0            54             NaN  \n",
       "..                    ...           ...             ...  \n",
       "106                   1.0           -12             NaN  \n",
       "107                   1.0           -12             NaN  \n",
       "108                   1.0           -12             NaN  \n",
       "109                   1.0           -12             NaN  \n",
       "110                   1.0            53            53.0  \n",
       "\n",
       "[111 rows x 21 columns]"
      ]
     },
     "execution_count": 14,
     "metadata": {},
     "output_type": "execute_result"
    }
   ],
   "source": [
    "data = pd.read_csv('../DatosRioCeibas/df_model.csv')\n",
    "data"
   ]
  },
  {
   "cell_type": "markdown",
   "metadata": {},
   "source": [
    "### Filtrar columnas\n",
    "<img src=\"https://pandas.pydata.org/docs/_images/03_subset_columns.svg\" title = \"Columnas\">"
   ]
  },
  {
   "cell_type": "code",
   "execution_count": 11,
   "metadata": {},
   "outputs": [
    {
     "data": {
      "text/html": [
       "<div>\n",
       "<style scoped>\n",
       "    .dataframe tbody tr th:only-of-type {\n",
       "        vertical-align: middle;\n",
       "    }\n",
       "\n",
       "    .dataframe tbody tr th {\n",
       "        vertical-align: top;\n",
       "    }\n",
       "\n",
       "    .dataframe thead th {\n",
       "        text-align: right;\n",
       "    }\n",
       "</style>\n",
       "<table border=\"1\" class=\"dataframe\">\n",
       "  <thead>\n",
       "    <tr style=\"text-align: right;\">\n",
       "      <th></th>\n",
       "      <th>CODE_CATEGORY</th>\n",
       "      <th>RECOVERY_METHOD</th>\n",
       "    </tr>\n",
       "  </thead>\n",
       "  <tbody>\n",
       "    <tr>\n",
       "      <th>0</th>\n",
       "      <td>PRO1</td>\n",
       "      <td>Secondary</td>\n",
       "    </tr>\n",
       "    <tr>\n",
       "      <th>1</th>\n",
       "      <td>PRO1</td>\n",
       "      <td>Secondary</td>\n",
       "    </tr>\n",
       "    <tr>\n",
       "      <th>2</th>\n",
       "      <td>PRO1</td>\n",
       "      <td>Secondary</td>\n",
       "    </tr>\n",
       "    <tr>\n",
       "      <th>3</th>\n",
       "      <td>PRO1</td>\n",
       "      <td>Secondary</td>\n",
       "    </tr>\n",
       "    <tr>\n",
       "      <th>4</th>\n",
       "      <td>PRO1</td>\n",
       "      <td>Secondary</td>\n",
       "    </tr>\n",
       "    <tr>\n",
       "      <th>...</th>\n",
       "      <td>...</td>\n",
       "      <td>...</td>\n",
       "    </tr>\n",
       "    <tr>\n",
       "      <th>106</th>\n",
       "      <td>OP1</td>\n",
       "      <td>Basic</td>\n",
       "    </tr>\n",
       "    <tr>\n",
       "      <th>107</th>\n",
       "      <td>OP1</td>\n",
       "      <td>Basic</td>\n",
       "    </tr>\n",
       "    <tr>\n",
       "      <th>108</th>\n",
       "      <td>OP1</td>\n",
       "      <td>Basic</td>\n",
       "    </tr>\n",
       "    <tr>\n",
       "      <th>109</th>\n",
       "      <td>OP1</td>\n",
       "      <td>Basic</td>\n",
       "    </tr>\n",
       "    <tr>\n",
       "      <th>110</th>\n",
       "      <td>PRO1</td>\n",
       "      <td>Secondary</td>\n",
       "    </tr>\n",
       "  </tbody>\n",
       "</table>\n",
       "<p>111 rows × 2 columns</p>\n",
       "</div>"
      ],
      "text/plain": [
       "    CODE_CATEGORY RECOVERY_METHOD\n",
       "0            PRO1       Secondary\n",
       "1            PRO1       Secondary\n",
       "2            PRO1       Secondary\n",
       "3            PRO1       Secondary\n",
       "4            PRO1       Secondary\n",
       "..            ...             ...\n",
       "106           OP1           Basic\n",
       "107           OP1           Basic\n",
       "108           OP1           Basic\n",
       "109           OP1           Basic\n",
       "110          PRO1       Secondary\n",
       "\n",
       "[111 rows x 2 columns]"
      ]
     },
     "execution_count": 11,
     "metadata": {},
     "output_type": "execute_result"
    }
   ],
   "source": [
    "data[['CODE_CATEGORY', 'RECOVERY_METHOD']]"
   ]
  },
  {
   "cell_type": "markdown",
   "metadata": {},
   "source": [
    "### Filtrar filas\n",
    "<img src=\"https://pandas.pydata.org/docs/_images/03_subset_rows.svg\" title=\"Filas\">"
   ]
  },
  {
   "cell_type": "code",
   "execution_count": 10,
   "metadata": {},
   "outputs": [
    {
     "data": {
      "text/html": [
       "<div>\n",
       "<style scoped>\n",
       "    .dataframe tbody tr th:only-of-type {\n",
       "        vertical-align: middle;\n",
       "    }\n",
       "\n",
       "    .dataframe tbody tr th {\n",
       "        vertical-align: top;\n",
       "    }\n",
       "\n",
       "    .dataframe thead th {\n",
       "        text-align: right;\n",
       "    }\n",
       "</style>\n",
       "<table border=\"1\" class=\"dataframe\">\n",
       "  <thead>\n",
       "    <tr style=\"text-align: right;\">\n",
       "      <th></th>\n",
       "      <th>ENTITY</th>\n",
       "      <th>IDEA_ID</th>\n",
       "      <th>IDEA_VERSION</th>\n",
       "      <th>TYPE_CATEGORY</th>\n",
       "      <th>CODE_CATEGORY</th>\n",
       "      <th>FIELD_AGREEMENT_ID</th>\n",
       "      <th>FACILITY</th>\n",
       "      <th>CLUSTER</th>\n",
       "      <th>GROUP</th>\n",
       "      <th>RIG</th>\n",
       "      <th>...</th>\n",
       "      <th>RECOVERY_METHOD</th>\n",
       "      <th>SCENARIO</th>\n",
       "      <th>PATRON</th>\n",
       "      <th>FIXED</th>\n",
       "      <th>VOLUME_DATE</th>\n",
       "      <th>ACTIVITY_DATE</th>\n",
       "      <th>WELL_TYPE_U</th>\n",
       "      <th>WELL_ABANDONMENT_COST</th>\n",
       "      <th>DELTA_VOLUME</th>\n",
       "      <th>DELTA_ACTIVITY</th>\n",
       "    </tr>\n",
       "  </thead>\n",
       "  <tbody>\n",
       "    <tr>\n",
       "      <th>0</th>\n",
       "      <td>107031-DOI-RICB-009</td>\n",
       "      <td>107031-3</td>\n",
       "      <td>1</td>\n",
       "      <td>1</td>\n",
       "      <td>PRO1</td>\n",
       "      <td>107031</td>\n",
       "      <td>RCN</td>\n",
       "      <td>3</td>\n",
       "      <td>N</td>\n",
       "      <td>Eq_1_P</td>\n",
       "      <td>...</td>\n",
       "      <td>Secondary</td>\n",
       "      <td>1</td>\n",
       "      <td>0</td>\n",
       "      <td>1</td>\n",
       "      <td>2026-06-01</td>\n",
       "      <td>2026-06-01 00:00:00</td>\n",
       "      <td>Injector</td>\n",
       "      <td>1.0</td>\n",
       "      <td>45</td>\n",
       "      <td>45.0</td>\n",
       "    </tr>\n",
       "    <tr>\n",
       "      <th>1</th>\n",
       "      <td>107031-DOI-RICB-019</td>\n",
       "      <td>107031-3</td>\n",
       "      <td>1</td>\n",
       "      <td>1</td>\n",
       "      <td>PRO1</td>\n",
       "      <td>107031</td>\n",
       "      <td>RCN</td>\n",
       "      <td>30</td>\n",
       "      <td>N</td>\n",
       "      <td>Eq_1_P</td>\n",
       "      <td>...</td>\n",
       "      <td>Secondary</td>\n",
       "      <td>1</td>\n",
       "      <td>1</td>\n",
       "      <td>1</td>\n",
       "      <td>2027-04-01</td>\n",
       "      <td>2027-04-01 00:00:00</td>\n",
       "      <td>Injector</td>\n",
       "      <td>1.0</td>\n",
       "      <td>55</td>\n",
       "      <td>55.0</td>\n",
       "    </tr>\n",
       "    <tr>\n",
       "      <th>2</th>\n",
       "      <td>107031-DOI-RICB-024</td>\n",
       "      <td>107031-3</td>\n",
       "      <td>1</td>\n",
       "      <td>1</td>\n",
       "      <td>PRO1</td>\n",
       "      <td>107031</td>\n",
       "      <td>RCN</td>\n",
       "      <td>18</td>\n",
       "      <td>N</td>\n",
       "      <td>Eq_1_P</td>\n",
       "      <td>...</td>\n",
       "      <td>Secondary</td>\n",
       "      <td>1</td>\n",
       "      <td>2</td>\n",
       "      <td>1</td>\n",
       "      <td>2026-10-01</td>\n",
       "      <td>2026-10-01 00:00:00</td>\n",
       "      <td>Injector</td>\n",
       "      <td>1.0</td>\n",
       "      <td>49</td>\n",
       "      <td>49.0</td>\n",
       "    </tr>\n",
       "    <tr>\n",
       "      <th>3</th>\n",
       "      <td>RIC-001LBA</td>\n",
       "      <td>107031-3</td>\n",
       "      <td>1</td>\n",
       "      <td>1</td>\n",
       "      <td>PRO1</td>\n",
       "      <td>107031</td>\n",
       "      <td>RCN</td>\n",
       "      <td>23</td>\n",
       "      <td>N</td>\n",
       "      <td>Eq_1_P</td>\n",
       "      <td>...</td>\n",
       "      <td>Secondary</td>\n",
       "      <td>1</td>\n",
       "      <td>3</td>\n",
       "      <td>1</td>\n",
       "      <td>2027-02-01</td>\n",
       "      <td>NaN</td>\n",
       "      <td>Injector</td>\n",
       "      <td>1.0</td>\n",
       "      <td>53</td>\n",
       "      <td>NaN</td>\n",
       "    </tr>\n",
       "    <tr>\n",
       "      <th>4</th>\n",
       "      <td>RIC-013</td>\n",
       "      <td>107031-3</td>\n",
       "      <td>1</td>\n",
       "      <td>1</td>\n",
       "      <td>PRO1</td>\n",
       "      <td>107031</td>\n",
       "      <td>RCN</td>\n",
       "      <td>26</td>\n",
       "      <td>N</td>\n",
       "      <td>Eq_1_P</td>\n",
       "      <td>...</td>\n",
       "      <td>Secondary</td>\n",
       "      <td>1</td>\n",
       "      <td>5</td>\n",
       "      <td>1</td>\n",
       "      <td>2027-03-01</td>\n",
       "      <td>NaN</td>\n",
       "      <td>Injector</td>\n",
       "      <td>1.0</td>\n",
       "      <td>54</td>\n",
       "      <td>NaN</td>\n",
       "    </tr>\n",
       "    <tr>\n",
       "      <th>...</th>\n",
       "      <td>...</td>\n",
       "      <td>...</td>\n",
       "      <td>...</td>\n",
       "      <td>...</td>\n",
       "      <td>...</td>\n",
       "      <td>...</td>\n",
       "      <td>...</td>\n",
       "      <td>...</td>\n",
       "      <td>...</td>\n",
       "      <td>...</td>\n",
       "      <td>...</td>\n",
       "      <td>...</td>\n",
       "      <td>...</td>\n",
       "      <td>...</td>\n",
       "      <td>...</td>\n",
       "      <td>...</td>\n",
       "      <td>...</td>\n",
       "      <td>...</td>\n",
       "      <td>...</td>\n",
       "      <td>...</td>\n",
       "      <td>...</td>\n",
       "    </tr>\n",
       "    <tr>\n",
       "      <th>60</th>\n",
       "      <td>RIC-082</td>\n",
       "      <td>107031-3</td>\n",
       "      <td>1</td>\n",
       "      <td>1</td>\n",
       "      <td>PRO1</td>\n",
       "      <td>107031</td>\n",
       "      <td>RCN</td>\n",
       "      <td>42</td>\n",
       "      <td>N</td>\n",
       "      <td>Eq_1_P</td>\n",
       "      <td>...</td>\n",
       "      <td>Secondary</td>\n",
       "      <td>1</td>\n",
       "      <td>13</td>\n",
       "      <td>1</td>\n",
       "      <td>2027-07-01</td>\n",
       "      <td>NaN</td>\n",
       "      <td>Producer</td>\n",
       "      <td>1.0</td>\n",
       "      <td>58</td>\n",
       "      <td>NaN</td>\n",
       "    </tr>\n",
       "    <tr>\n",
       "      <th>61</th>\n",
       "      <td>RIC-084</td>\n",
       "      <td>107031-3</td>\n",
       "      <td>1</td>\n",
       "      <td>1</td>\n",
       "      <td>PRO1</td>\n",
       "      <td>107031</td>\n",
       "      <td>RCN</td>\n",
       "      <td>6</td>\n",
       "      <td>N</td>\n",
       "      <td>Eq_2_WO</td>\n",
       "      <td>...</td>\n",
       "      <td>Secondary</td>\n",
       "      <td>1</td>\n",
       "      <td>1;20</td>\n",
       "      <td>1</td>\n",
       "      <td>2026-06-01</td>\n",
       "      <td>2026-06-01 00:00:00</td>\n",
       "      <td>Producer</td>\n",
       "      <td>1.0</td>\n",
       "      <td>45</td>\n",
       "      <td>45.0</td>\n",
       "    </tr>\n",
       "    <tr>\n",
       "      <th>62</th>\n",
       "      <td>RIC-086</td>\n",
       "      <td>107031-3</td>\n",
       "      <td>1</td>\n",
       "      <td>1</td>\n",
       "      <td>PRO1</td>\n",
       "      <td>107031</td>\n",
       "      <td>RCN</td>\n",
       "      <td>19</td>\n",
       "      <td>N</td>\n",
       "      <td>Eq_2_WO</td>\n",
       "      <td>...</td>\n",
       "      <td>Secondary</td>\n",
       "      <td>1</td>\n",
       "      <td>2;24</td>\n",
       "      <td>1</td>\n",
       "      <td>2026-10-01</td>\n",
       "      <td>2026-10-01 00:00:00</td>\n",
       "      <td>Producer</td>\n",
       "      <td>1.0</td>\n",
       "      <td>49</td>\n",
       "      <td>49.0</td>\n",
       "    </tr>\n",
       "    <tr>\n",
       "      <th>63</th>\n",
       "      <td>RIC-095</td>\n",
       "      <td>107031-3</td>\n",
       "      <td>1</td>\n",
       "      <td>1</td>\n",
       "      <td>PRO1</td>\n",
       "      <td>107031</td>\n",
       "      <td>RCN</td>\n",
       "      <td>29</td>\n",
       "      <td>N</td>\n",
       "      <td>Eq_1_P</td>\n",
       "      <td>...</td>\n",
       "      <td>Secondary</td>\n",
       "      <td>1</td>\n",
       "      <td>17;19;21</td>\n",
       "      <td>1</td>\n",
       "      <td>2027-02-01</td>\n",
       "      <td>NaN</td>\n",
       "      <td>Producer</td>\n",
       "      <td>1.0</td>\n",
       "      <td>53</td>\n",
       "      <td>NaN</td>\n",
       "    </tr>\n",
       "    <tr>\n",
       "      <th>110</th>\n",
       "      <td>RIC-029</td>\n",
       "      <td>107031-3</td>\n",
       "      <td>1</td>\n",
       "      <td>1</td>\n",
       "      <td>PRO1</td>\n",
       "      <td>107031</td>\n",
       "      <td>RCN</td>\n",
       "      <td>45</td>\n",
       "      <td>N</td>\n",
       "      <td>Eq_2_WO</td>\n",
       "      <td>...</td>\n",
       "      <td>Secondary</td>\n",
       "      <td>1</td>\n",
       "      <td>-1</td>\n",
       "      <td>1</td>\n",
       "      <td>2027-02-01</td>\n",
       "      <td>2027-02-01 00:00:00</td>\n",
       "      <td>Disposal</td>\n",
       "      <td>1.0</td>\n",
       "      <td>53</td>\n",
       "      <td>53.0</td>\n",
       "    </tr>\n",
       "  </tbody>\n",
       "</table>\n",
       "<p>65 rows × 21 columns</p>\n",
       "</div>"
      ],
      "text/plain": [
       "                  ENTITY   IDEA_ID  IDEA_VERSION  TYPE_CATEGORY CODE_CATEGORY  \\\n",
       "0    107031-DOI-RICB-009  107031-3             1              1          PRO1   \n",
       "1    107031-DOI-RICB-019  107031-3             1              1          PRO1   \n",
       "2    107031-DOI-RICB-024  107031-3             1              1          PRO1   \n",
       "3             RIC-001LBA  107031-3             1              1          PRO1   \n",
       "4                RIC-013  107031-3             1              1          PRO1   \n",
       "..                   ...       ...           ...            ...           ...   \n",
       "60               RIC-082  107031-3             1              1          PRO1   \n",
       "61               RIC-084  107031-3             1              1          PRO1   \n",
       "62               RIC-086  107031-3             1              1          PRO1   \n",
       "63               RIC-095  107031-3             1              1          PRO1   \n",
       "110              RIC-029  107031-3             1              1          PRO1   \n",
       "\n",
       "     FIELD_AGREEMENT_ID FACILITY  CLUSTER GROUP      RIG  ... RECOVERY_METHOD  \\\n",
       "0                107031      RCN        3     N   Eq_1_P  ...       Secondary   \n",
       "1                107031      RCN       30     N   Eq_1_P  ...       Secondary   \n",
       "2                107031      RCN       18     N   Eq_1_P  ...       Secondary   \n",
       "3                107031      RCN       23     N   Eq_1_P  ...       Secondary   \n",
       "4                107031      RCN       26     N   Eq_1_P  ...       Secondary   \n",
       "..                  ...      ...      ...   ...      ...  ...             ...   \n",
       "60               107031      RCN       42     N   Eq_1_P  ...       Secondary   \n",
       "61               107031      RCN        6     N  Eq_2_WO  ...       Secondary   \n",
       "62               107031      RCN       19     N  Eq_2_WO  ...       Secondary   \n",
       "63               107031      RCN       29     N   Eq_1_P  ...       Secondary   \n",
       "110              107031      RCN       45     N  Eq_2_WO  ...       Secondary   \n",
       "\n",
       "    SCENARIO    PATRON FIXED  VOLUME_DATE        ACTIVITY_DATE WELL_TYPE_U  \\\n",
       "0          1         0     1   2026-06-01  2026-06-01 00:00:00    Injector   \n",
       "1          1         1     1   2027-04-01  2027-04-01 00:00:00    Injector   \n",
       "2          1         2     1   2026-10-01  2026-10-01 00:00:00    Injector   \n",
       "3          1         3     1   2027-02-01                  NaN    Injector   \n",
       "4          1         5     1   2027-03-01                  NaN    Injector   \n",
       "..       ...       ...   ...          ...                  ...         ...   \n",
       "60         1        13     1   2027-07-01                  NaN    Producer   \n",
       "61         1      1;20     1   2026-06-01  2026-06-01 00:00:00    Producer   \n",
       "62         1      2;24     1   2026-10-01  2026-10-01 00:00:00    Producer   \n",
       "63         1  17;19;21     1   2027-02-01                  NaN    Producer   \n",
       "110        1        -1     1   2027-02-01  2027-02-01 00:00:00    Disposal   \n",
       "\n",
       "    WELL_ABANDONMENT_COST  DELTA_VOLUME  DELTA_ACTIVITY  \n",
       "0                     1.0            45            45.0  \n",
       "1                     1.0            55            55.0  \n",
       "2                     1.0            49            49.0  \n",
       "3                     1.0            53             NaN  \n",
       "4                     1.0            54             NaN  \n",
       "..                    ...           ...             ...  \n",
       "60                    1.0            58             NaN  \n",
       "61                    1.0            45            45.0  \n",
       "62                    1.0            49            49.0  \n",
       "63                    1.0            53             NaN  \n",
       "110                   1.0            53            53.0  \n",
       "\n",
       "[65 rows x 21 columns]"
      ]
     },
     "execution_count": 10,
     "metadata": {},
     "output_type": "execute_result"
    }
   ],
   "source": [
    "data.loc[data.IDEA_ID == '107031-3']"
   ]
  },
  {
   "cell_type": "markdown",
   "metadata": {},
   "source": [
    "### Filas y columnas\n",
    "<img src=\"https://pandas.pydata.org/docs/_images/03_subset_columns_rows.svg\" title=\"Filas y Columnas\">"
   ]
  },
  {
   "cell_type": "code",
   "execution_count": 12,
   "metadata": {},
   "outputs": [
    {
     "data": {
      "text/plain": [
       "0      Secondary\n",
       "1      Secondary\n",
       "2      Secondary\n",
       "3      Secondary\n",
       "4      Secondary\n",
       "         ...    \n",
       "63     Secondary\n",
       "64       Primary\n",
       "65       Primary\n",
       "66       Primary\n",
       "110    Secondary\n",
       "Name: RECOVERY_METHOD, Length: 68, dtype: object"
      ]
     },
     "execution_count": 12,
     "metadata": {},
     "output_type": "execute_result"
    }
   ],
   "source": [
    "data.loc[data.CODE_CATEGORY == 'PRO1', 'RECOVERY_METHOD']"
   ]
  },
  {
   "cell_type": "code",
   "execution_count": 13,
   "metadata": {},
   "outputs": [
    {
     "data": {
      "text/plain": [
       "Secondary    65\n",
       "Primary       3\n",
       "Name: RECOVERY_METHOD, dtype: int64"
      ]
     },
     "execution_count": 13,
     "metadata": {},
     "output_type": "execute_result"
    }
   ],
   "source": [
    "data.loc[data.CODE_CATEGORY == 'PRO1', 'RECOVERY_METHOD'].value_counts()"
   ]
  }
 ],
 "metadata": {
  "kernelspec": {
   "display_name": "Python 3 (ipykernel)",
   "language": "python",
   "name": "python3"
  },
  "language_info": {
   "codemirror_mode": {
    "name": "ipython",
    "version": 3
   },
   "file_extension": ".py",
   "mimetype": "text/x-python",
   "name": "python",
   "nbconvert_exporter": "python",
   "pygments_lexer": "ipython3",
   "version": "3.11.7"
  },
  "vscode": {
   "interpreter": {
    "hash": "9d1551fa46f9e82a7abab90bc4adcde7b723fa4e9951d0f8f7b40f50696411b2"
   }
  }
 },
 "nbformat": 4,
 "nbformat_minor": 4
}
